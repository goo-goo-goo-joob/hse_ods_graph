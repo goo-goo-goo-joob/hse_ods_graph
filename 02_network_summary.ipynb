{
 "cells": [
  {
   "cell_type": "markdown",
   "id": "f36e5545-a585-49b9-b7fa-1ee18f5e748d",
   "metadata": {},
   "source": [
    "# Network summary\n",
    "\n",
    "- Number of nodes and edges.\n",
    "- Diameter, radius.\n",
    "- Clustering coefficient (global, average local, histogram).\n",
    "- Average path length (histogram).\n",
    "- Degree distribution, fitted models by regression/MLE/KS-test.\n",
    "- Gorgeous network layout. "
   ]
  },
  {
   "cell_type": "code",
   "execution_count": 1,
   "id": "1cd76b69-a08e-4199-90ed-ba05227bb826",
   "metadata": {
    "execution": {
     "iopub.execute_input": "2022-04-08T18:35:15.652651Z",
     "iopub.status.busy": "2022-04-08T18:35:15.652165Z",
     "iopub.status.idle": "2022-04-08T18:35:16.853406Z",
     "shell.execute_reply": "2022-04-08T18:35:16.852908Z",
     "shell.execute_reply.started": "2022-04-08T18:35:15.652579Z"
    },
    "tags": []
   },
   "outputs": [],
   "source": [
    "from collections import Counter\n",
    "\n",
    "import matplotlib.pyplot as plt\n",
    "import networkx as nx\n",
    "import numpy as np\n",
    "import scipy\n",
    "import scipy.stats\n",
    "import seaborn as sns\n",
    "from sklearn.linear_model import LinearRegression\n",
    "\n",
    "sns.set_theme()"
   ]
  },
  {
   "cell_type": "code",
   "execution_count": 2,
   "id": "ef9434fb-ee1b-4706-9d82-54d57f9068f9",
   "metadata": {
    "execution": {
     "iopub.execute_input": "2022-04-08T18:35:16.854558Z",
     "iopub.status.busy": "2022-04-08T18:35:16.854399Z",
     "iopub.status.idle": "2022-04-08T18:35:16.897807Z",
     "shell.execute_reply": "2022-04-08T18:35:16.897351Z",
     "shell.execute_reply.started": "2022-04-08T18:35:16.854541Z"
    },
    "tags": []
   },
   "outputs": [],
   "source": [
    "uG = nx.read_gexf(\"undirected_graph.gexf\")\n",
    "G = nx.read_gexf(\"directed_graph.gexf\")"
   ]
  },
  {
   "cell_type": "markdown",
   "id": "c156f394-6969-4076-aaaa-a7e605ae1eb5",
   "metadata": {},
   "source": [
    "## Number of nodes and edges"
   ]
  },
  {
   "cell_type": "code",
   "execution_count": 3,
   "id": "64bab69d-0ebd-4cde-b7c1-4769607f7853",
   "metadata": {
    "execution": {
     "iopub.execute_input": "2022-04-08T18:35:16.898989Z",
     "iopub.status.busy": "2022-04-08T18:35:16.898578Z",
     "iopub.status.idle": "2022-04-08T18:35:16.902619Z",
     "shell.execute_reply": "2022-04-08T18:35:16.902200Z",
     "shell.execute_reply.started": "2022-04-08T18:35:16.898966Z"
    },
    "tags": []
   },
   "outputs": [
    {
     "name": "stdout",
     "output_type": "stream",
     "text": [
      "Nodes: 374\n",
      "Edges: 1099\n"
     ]
    }
   ],
   "source": [
    "print(\"Nodes:\", len(uG))\n",
    "print(\"Edges:\", len(uG.edges))"
   ]
  },
  {
   "cell_type": "markdown",
   "id": "0e4dab93-236c-4e18-bea7-9dc9df23f8df",
   "metadata": {},
   "source": [
    "## Diameter, radius"
   ]
  },
  {
   "cell_type": "code",
   "execution_count": 4,
   "id": "e0bf595f-e1c2-483c-9e62-6f74b62b767a",
   "metadata": {
    "execution": {
     "iopub.execute_input": "2022-04-08T18:35:16.903439Z",
     "iopub.status.busy": "2022-04-08T18:35:16.903288Z",
     "iopub.status.idle": "2022-04-08T18:35:17.184299Z",
     "shell.execute_reply": "2022-04-08T18:35:17.183845Z",
     "shell.execute_reply.started": "2022-04-08T18:35:16.903422Z"
    },
    "tags": []
   },
   "outputs": [
    {
     "name": "stdout",
     "output_type": "stream",
     "text": [
      "Radius:  4\n",
      "Diameter:  7\n"
     ]
    }
   ],
   "source": [
    "print(\"Radius: \", nx.radius(uG))  # минимальный эксцентриситет\n",
    "print(\"Diameter: \", nx.diameter(uG))  # максимальный эксцентриситет"
   ]
  },
  {
   "cell_type": "markdown",
   "id": "bd52add5-ec1d-439e-9474-95800b28d53d",
   "metadata": {},
   "source": [
    "## Clustering coefficient (global, average local, histogram)"
   ]
  },
  {
   "cell_type": "code",
   "execution_count": 5,
   "id": "52d6690a-f93f-4e06-9b19-2b58a84d8f15",
   "metadata": {
    "execution": {
     "iopub.execute_input": "2022-04-08T18:35:17.185726Z",
     "iopub.status.busy": "2022-04-08T18:35:17.185533Z",
     "iopub.status.idle": "2022-04-08T18:35:17.204950Z",
     "shell.execute_reply": "2022-04-08T18:35:17.204423Z",
     "shell.execute_reply.started": "2022-04-08T18:35:17.185708Z"
    },
    "tags": []
   },
   "outputs": [
    {
     "name": "stdout",
     "output_type": "stream",
     "text": [
      "Global Clustering coefficient:  0.04516078184110971\n",
      "Average local Clustering coefficient:  0.1303214240157394\n"
     ]
    }
   ],
   "source": [
    "print(\"Global Clustering coefficient: \", nx.algorithms.cluster.transitivity(uG))\n",
    "print(\"Average local Clustering coefficient: \", nx.average_clustering(uG))"
   ]
  },
  {
   "cell_type": "code",
   "execution_count": 6,
   "id": "abc3820f-7ad6-49a3-8c95-2846ae01885d",
   "metadata": {
    "execution": {
     "iopub.execute_input": "2022-04-08T18:35:17.205904Z",
     "iopub.status.busy": "2022-04-08T18:35:17.205747Z",
     "iopub.status.idle": "2022-04-08T18:35:17.787011Z",
     "shell.execute_reply": "2022-04-08T18:35:17.786500Z",
     "shell.execute_reply.started": "2022-04-08T18:35:17.205887Z"
    },
    "tags": []
   },
   "outputs": [
    {
     "data": {
      "image/png": "[encoded data removed]",
      "text/plain": [
       "<Figure size 432x288 with 1 Axes>"
      ]
     },
     "metadata": {},
     "output_type": "display_data"
    }
   ],
   "source": [
    "plt.hist(nx.clustering(uG).values(), bins=20)\n",
    "plt.title(\"Local Clustering coefficient histogram\")\n",
    "plt.xlabel(\"Local Clustering coefficient\")\n",
    "plt.show()"
   ]
  },
  {
   "cell_type": "markdown",
   "id": "2cb61620-bfa1-4699-b85f-1dfff234ed73",
   "metadata": {},
   "source": [
    "Коэффициент кластеризации низкий (доля от всех возможных треугольников в графе)\n",
    "\n",
    "Большое кол-во нод имеют нулевой коэффициент кластеризации - это означает, что они не входят в треугольники (в некоторых частях график близок к графу-звезде)"
   ]
  },
  {
   "cell_type": "markdown",
   "id": "b8adfe71-236d-47f7-b49f-7bf450f401cf",
   "metadata": {},
   "source": [
    "## Average path length (histogram)"
   ]
  },
  {
   "cell_type": "code",
   "execution_count": 7,
   "id": "a888520d-e164-4559-abab-3a39e8ad0ce0",
   "metadata": {
    "execution": {
     "iopub.execute_input": "2022-04-08T18:35:17.787933Z",
     "iopub.status.busy": "2022-04-08T18:35:17.787778Z",
     "iopub.status.idle": "2022-04-08T18:35:17.934226Z",
     "shell.execute_reply": "2022-04-08T18:35:17.933666Z",
     "shell.execute_reply.started": "2022-04-08T18:35:17.787917Z"
    },
    "tags": []
   },
   "outputs": [
    {
     "name": "stdout",
     "output_type": "stream",
     "text": [
      "Average path length:  2.958652922538745\n"
     ]
    }
   ],
   "source": [
    "print(\"Average path length: \", nx.average_shortest_path_length(uG))"
   ]
  },
  {
   "cell_type": "code",
   "execution_count": 8,
   "id": "495cdef5-a1ad-471c-bfb6-1490419dd546",
   "metadata": {
    "execution": {
     "iopub.execute_input": "2022-04-08T18:35:17.935618Z",
     "iopub.status.busy": "2022-04-08T18:35:17.935116Z",
     "iopub.status.idle": "2022-04-08T18:35:18.103802Z",
     "shell.execute_reply": "2022-04-08T18:35:18.103310Z",
     "shell.execute_reply.started": "2022-04-08T18:35:17.935587Z"
    },
    "tags": []
   },
   "outputs": [],
   "source": [
    "lengths = np.ravel([list(x[1].values())[1:] for x in nx.shortest_path_length(uG)])\n",
    "c = Counter(lengths)"
   ]
  },
  {
   "cell_type": "code",
   "execution_count": 9,
   "id": "c160d3ad-fd5d-45db-b367-88ba1244735c",
   "metadata": {
    "execution": {
     "iopub.execute_input": "2022-04-08T18:35:18.104944Z",
     "iopub.status.busy": "2022-04-08T18:35:18.104591Z",
     "iopub.status.idle": "2022-04-08T18:35:18.229414Z",
     "shell.execute_reply": "2022-04-08T18:35:18.228839Z",
     "shell.execute_reply.started": "2022-04-08T18:35:18.104926Z"
    },
    "tags": []
   },
   "outputs": [
    {
     "data": {
      "image/png": "[encoded data removed]",
      "text/plain": [
       "<Figure size 432x288 with 1 Axes>"
      ]
     },
     "metadata": {},
     "output_type": "display_data"
    }
   ],
   "source": [
    "plt.bar(c.keys(), np.array(list(c.values())) / 2)\n",
    "plt.title(\"Path lengths distribution\")\n",
    "plt.xlabel(\"Shortest path length\")\n",
    "plt.show()"
   ]
  },
  {
   "cell_type": "markdown",
   "id": "c3470d7d-ec90-4150-9ff5-f32e566d4e7a",
   "metadata": {},
   "source": [
    "Средний кратчайший путь в графе достаточно низкий"
   ]
  },
  {
   "cell_type": "markdown",
   "id": "a453768a-d4ab-4e4c-ac09-4b6b77cbe8ee",
   "metadata": {},
   "source": [
    "## Degree distribution, fitted models by regression/MLE/KS-test"
   ]
  },
  {
   "cell_type": "code",
   "execution_count": 10,
   "id": "5204984c-0614-4dba-bd8b-f2aca6e04dc3",
   "metadata": {
    "execution": {
     "iopub.execute_input": "2022-04-08T18:35:18.230872Z",
     "iopub.status.busy": "2022-04-08T18:35:18.230384Z",
     "iopub.status.idle": "2022-04-08T18:35:18.420514Z",
     "shell.execute_reply": "2022-04-08T18:35:18.420075Z",
     "shell.execute_reply.started": "2022-04-08T18:35:18.230842Z"
    },
    "tags": []
   },
   "outputs": [
    {
     "data": {
      "image/png": "[encoded data removed]",
      "text/plain": [
       "<Figure size 936x432 with 1 Axes>"
      ]
     },
     "metadata": {},
     "output_type": "display_data"
    }
   ],
   "source": [
    "degrees = np.array(uG.degree)[:, 1].astype(int)\n",
    "plt.figure(figsize=(13, 6))\n",
    "plt.hist(degrees, bins=50)\n",
    "plt.title(\"Degree distribution\")\n",
    "plt.xlabel(\"Degree\")\n",
    "plt.show()"
   ]
  },
  {
   "cell_type": "code",
   "execution_count": 11,
   "id": "6aef6525-2c01-4c8e-83c6-efbcdef79ddd",
   "metadata": {
    "execution": {
     "iopub.execute_input": "2022-04-08T18:35:18.421401Z",
     "iopub.status.busy": "2022-04-08T18:35:18.421245Z",
     "iopub.status.idle": "2022-04-08T18:35:18.601927Z",
     "shell.execute_reply": "2022-04-08T18:35:18.601485Z",
     "shell.execute_reply.started": "2022-04-08T18:35:18.421384Z"
    },
    "tags": []
   },
   "outputs": [
    {
     "data": {
      "image/png": "[encoded data removed]",
      "text/plain": [
       "<Figure size 936x432 with 1 Axes>"
      ]
     },
     "metadata": {},
     "output_type": "display_data"
    }
   ],
   "source": [
    "in_degrees = np.array(G.in_degree)[:, 1].astype(int)\n",
    "plt.figure(figsize=(13, 6))\n",
    "plt.hist(in_degrees, bins=50)\n",
    "plt.title(\"In Degree distribution\")\n",
    "plt.xlabel(\"In Degree\")\n",
    "plt.show()"
   ]
  },
  {
   "cell_type": "code",
   "execution_count": 12,
   "id": "d077f365-6fc9-4555-9c45-054027a4c36e",
   "metadata": {
    "execution": {
     "iopub.execute_input": "2022-04-08T18:35:18.603019Z",
     "iopub.status.busy": "2022-04-08T18:35:18.602657Z",
     "iopub.status.idle": "2022-04-08T18:35:18.782504Z",
     "shell.execute_reply": "2022-04-08T18:35:18.782064Z",
     "shell.execute_reply.started": "2022-04-08T18:35:18.603001Z"
    },
    "tags": []
   },
   "outputs": [
    {
     "data": {
      "image/png": "[encoded data removed]",
      "text/plain": [
       "<Figure size 936x432 with 1 Axes>"
      ]
     },
     "metadata": {},
     "output_type": "display_data"
    }
   ],
   "source": [
    "out_degrees = np.array(G.degree)[:, 1].astype(int)\n",
    "plt.figure(figsize=(13, 6))\n",
    "plt.hist(out_degrees, bins=50)\n",
    "plt.title(\"Out Degree distribution\")\n",
    "plt.xlabel(\"Out Degree\")\n",
    "plt.show()"
   ]
  },
  {
   "cell_type": "code",
   "execution_count": 13,
   "id": "bdfa43e3-f277-42eb-b8ab-82970b472a69",
   "metadata": {
    "execution": {
     "iopub.execute_input": "2022-04-08T18:35:18.783380Z",
     "iopub.status.busy": "2022-04-08T18:35:18.783227Z",
     "iopub.status.idle": "2022-04-08T18:35:19.476343Z",
     "shell.execute_reply": "2022-04-08T18:35:19.475859Z",
     "shell.execute_reply.started": "2022-04-08T18:35:18.783364Z"
    },
    "tags": []
   },
   "outputs": [
    {
     "data": {
      "image/png": "[encoded data removed]",
      "text/plain": [
       "<Figure size 432x288 with 1 Axes>"
      ]
     },
     "metadata": {},
     "output_type": "display_data"
    }
   ],
   "source": [
    "hist, bin_edges = np.histogram(degrees, bins=1000, density=True)\n",
    "bin_centers = (bin_edges[1:] + bin_edges[:-1]) / 2\n",
    "plt.scatter(bin_centers[hist > 0], hist[hist > 0], s=5)\n",
    "plt.title(\"Degree distribution\")\n",
    "plt.xscale(\"log\")\n",
    "plt.yscale(\"log\")"
   ]
  },
  {
   "cell_type": "code",
   "execution_count": 14,
   "id": "dafb9632-013d-43fb-9563-bfa9ea5f47a0",
   "metadata": {
    "execution": {
     "iopub.execute_input": "2022-04-08T18:35:19.478388Z",
     "iopub.status.busy": "2022-04-08T18:35:19.478012Z",
     "iopub.status.idle": "2022-04-08T18:35:19.481416Z",
     "shell.execute_reply": "2022-04-08T18:35:19.480829Z",
     "shell.execute_reply.started": "2022-04-08T18:35:19.478364Z"
    },
    "tags": []
   },
   "outputs": [],
   "source": [
    "def power_law_ppf(r, alpha=3.5, x_min=1):\n",
    "    return (1 - r) ** (1 / (-alpha + 1)) * x_min"
   ]
  },
  {
   "cell_type": "code",
   "execution_count": 15,
   "id": "b8dc4f42-52f3-4c86-8cc6-633dd08951f4",
   "metadata": {
    "execution": {
     "iopub.execute_input": "2022-04-08T18:35:19.482309Z",
     "iopub.status.busy": "2022-04-08T18:35:19.482145Z",
     "iopub.status.idle": "2022-04-08T18:35:19.487731Z",
     "shell.execute_reply": "2022-04-08T18:35:19.487343Z",
     "shell.execute_reply.started": "2022-04-08T18:35:19.482285Z"
    },
    "tags": []
   },
   "outputs": [],
   "source": [
    "def power_law_pdf(x, alpha=3.5, x_min=1):\n",
    "    C = (alpha - 1) / x_min ** (1 - alpha)\n",
    "    return C * x ** (-alpha)"
   ]
  },
  {
   "cell_type": "code",
   "execution_count": 16,
   "id": "189e3c12-ef23-4fc6-a33b-2a4312d6711f",
   "metadata": {
    "execution": {
     "iopub.execute_input": "2022-04-08T18:35:19.488992Z",
     "iopub.status.busy": "2022-04-08T18:35:19.488531Z",
     "iopub.status.idle": "2022-04-08T18:35:19.492849Z",
     "shell.execute_reply": "2022-04-08T18:35:19.492441Z",
     "shell.execute_reply.started": "2022-04-08T18:35:19.488964Z"
    },
    "tags": []
   },
   "outputs": [],
   "source": [
    "def power_law_cdf(x, alpha=3.5, x_min=1):\n",
    "    return 1 - x ** (-alpha + 1) / x_min ** (-alpha + 1)"
   ]
  },
  {
   "cell_type": "code",
   "execution_count": 17,
   "id": "7026fd52-2629-4d00-a475-59d543537b6a",
   "metadata": {
    "execution": {
     "iopub.execute_input": "2022-04-08T18:35:19.493822Z",
     "iopub.status.busy": "2022-04-08T18:35:19.493621Z",
     "iopub.status.idle": "2022-04-08T18:35:19.578074Z",
     "shell.execute_reply": "2022-04-08T18:35:19.577488Z",
     "shell.execute_reply.started": "2022-04-08T18:35:19.493797Z"
    },
    "tags": []
   },
   "outputs": [
    {
     "data": {
      "text/plain": [
       "array([-1.33224985])"
      ]
     },
     "execution_count": 17,
     "metadata": {},
     "output_type": "execute_result"
    }
   ],
   "source": [
    "x_min = 1\n",
    "\n",
    "hist, bin_edges = np.histogram(degrees[degrees >= x_min], bins=200, density=True)\n",
    "bin_centers = (bin_edges[1:] + bin_edges[:-1]) / 2\n",
    "\n",
    "lr = LinearRegression()\n",
    "lr.fit(np.log(bin_centers[hist != 0]).reshape(-1, 1), np.log(hist[hist != 0]))\n",
    "\n",
    "lr.coef_"
   ]
  },
  {
   "cell_type": "code",
   "execution_count": 18,
   "id": "dfc5fc13-4b23-4de5-af23-9d4beb5a69f7",
   "metadata": {
    "execution": {
     "iopub.execute_input": "2022-04-08T18:35:19.579471Z",
     "iopub.status.busy": "2022-04-08T18:35:19.578991Z",
     "iopub.status.idle": "2022-04-08T18:35:19.582579Z",
     "shell.execute_reply": "2022-04-08T18:35:19.582029Z",
     "shell.execute_reply.started": "2022-04-08T18:35:19.579441Z"
    },
    "tags": []
   },
   "outputs": [],
   "source": [
    "alpha = -lr.coef_\n",
    "x_space = np.linspace(x_min, 160, 100)"
   ]
  },
  {
   "cell_type": "code",
   "execution_count": 19,
   "id": "cad5684a-13ac-497f-977e-91dc8ff78a20",
   "metadata": {
    "execution": {
     "iopub.execute_input": "2022-04-08T18:35:19.583989Z",
     "iopub.status.busy": "2022-04-08T18:35:19.583530Z",
     "iopub.status.idle": "2022-04-08T18:35:20.008567Z",
     "shell.execute_reply": "2022-04-08T18:35:20.007994Z",
     "shell.execute_reply.started": "2022-04-08T18:35:19.583959Z"
    },
    "tags": []
   },
   "outputs": [
    {
     "data": {
      "image/png": "[encoded data removed]",
      "text/plain": [
       "<Figure size 432x288 with 1 Axes>"
      ]
     },
     "metadata": {},
     "output_type": "display_data"
    }
   ],
   "source": [
    "hist, bin_edges = np.histogram(degrees, bins=200, density=True)\n",
    "bin_centers = (bin_edges[1:] + bin_edges[:-1]) / 2\n",
    "plt.scatter(bin_centers, hist, s=10)\n",
    "plt.plot(x_space, power_law_pdf(x_space, alpha, x_min), label=\"Theoretical PDF\", c=\"tab:orange\")\n",
    "plt.title(\"Degree distribution with Regression\")\n",
    "plt.legend()\n",
    "plt.xscale(\"log\")\n",
    "plt.yscale(\"log\")\n",
    "plt.xlim(x_min, 170)\n",
    "plt.show()"
   ]
  },
  {
   "cell_type": "code",
   "execution_count": 20,
   "id": "a5ca0858-056b-46de-b87c-8192b4dbc3f9",
   "metadata": {
    "execution": {
     "iopub.execute_input": "2022-04-08T18:35:20.010101Z",
     "iopub.status.busy": "2022-04-08T18:35:20.009580Z",
     "iopub.status.idle": "2022-04-08T18:35:20.014360Z",
     "shell.execute_reply": "2022-04-08T18:35:20.013826Z",
     "shell.execute_reply.started": "2022-04-08T18:35:20.010070Z"
    },
    "tags": []
   },
   "outputs": [],
   "source": [
    "def mle_power_law_params(degree_sequence):\n",
    "    alpha = None\n",
    "    x_min = None\n",
    "    ks = None\n",
    "    for x_min_ in np.linspace(degree_sequence.min(), degree_sequence.max(), 100):\n",
    "        degree_sequence_ = degree_sequence[degree_sequence >= x_min_]\n",
    "        alpha_ = 1 + len(degree_sequence_) / np.sum(np.log(degree_sequence_ / x_min_))\n",
    "        ks_ = scipy.stats.kstest(degree_sequence_, lambda x: power_law_cdf(x, alpha=alpha_, x_min=x_min_))[0]\n",
    "        if ks is None or ks > ks_:\n",
    "            alpha = alpha_\n",
    "            x_min = x_min_\n",
    "            ks = ks_\n",
    "    return alpha, x_min"
   ]
  },
  {
   "cell_type": "code",
   "execution_count": 21,
   "id": "8fbf5ade-0934-4e21-a373-0b1f5b6538a5",
   "metadata": {
    "execution": {
     "iopub.execute_input": "2022-04-08T18:35:20.015690Z",
     "iopub.status.busy": "2022-04-08T18:35:20.015239Z",
     "iopub.status.idle": "2022-04-08T18:35:20.463306Z",
     "shell.execute_reply": "2022-04-08T18:35:20.462693Z",
     "shell.execute_reply.started": "2022-04-08T18:35:20.015663Z"
    },
    "tags": []
   },
   "outputs": [
    {
     "name": "stderr",
     "output_type": "stream",
     "text": [
      "/tmp/ipykernel_1770/316295202.py:7: RuntimeWarning: divide by zero encountered in double_scalars\n",
      "  alpha_ = 1 + len(degree_sequence_) / np.sum(np.log(degree_sequence_ / x_min_))\n",
      "/tmp/ipykernel_1770/260356965.py:2: RuntimeWarning: invalid value encountered in true_divide\n",
      "  return 1 - x ** (-alpha + 1) / x_min ** (-alpha + 1)\n"
     ]
    },
    {
     "data": {
      "image/png": "[encoded data removed]",
      "text/plain": [
       "<Figure size 432x288 with 1 Axes>"
      ]
     },
     "metadata": {},
     "output_type": "display_data"
    }
   ],
   "source": [
    "hist, bin_edges = np.histogram(degrees, bins=1000, density=True)\n",
    "bin_centers = (bin_edges[1:] + bin_edges[:-1]) / 2\n",
    "plt.scatter(bin_centers[hist > 0], hist[hist > 0], s=5)\n",
    "plt.title(\"Degree distribution with MLE/KS test\")\n",
    "\n",
    "hat_alpha, hat_x_min = mle_power_law_params(degrees)\n",
    "x_space = np.linspace(hat_x_min, degrees.max(), 100)\n",
    "plt.plot(x_space, power_law_pdf(x_space, hat_alpha, hat_x_min), label=\"Estimated PDF\", c=\"tab:orange\")\n",
    "plt.legend()\n",
    "plt.xscale(\"log\")\n",
    "plt.yscale(\"log\")\n",
    "plt.ylim(0.01, 0.5);"
   ]
  },
  {
   "cell_type": "markdown",
   "id": "df35bec7-1b00-455c-aa5c-e22e25c87af4",
   "metadata": {},
   "source": [
    "Можно сказать, что распределение степеней вершин похоже на степенной закон (в графе небольшое количество вершин имеет большую степень)"
   ]
  },
  {
   "cell_type": "markdown",
   "id": "06d06b14-17cb-4644-9e56-45370f58f457",
   "metadata": {},
   "source": [
    "## Gorgeous network layout"
   ]
  },
  {
   "cell_type": "code",
   "execution_count": 22,
   "id": "a3d95e7a-8bc0-4c7a-a318-2c49ad5460ef",
   "metadata": {
    "execution": {
     "iopub.execute_input": "2022-04-08T18:35:20.464565Z",
     "iopub.status.busy": "2022-04-08T18:35:20.464343Z",
     "iopub.status.idle": "2022-04-08T18:35:20.569727Z",
     "shell.execute_reply": "2022-04-08T18:35:20.569214Z",
     "shell.execute_reply.started": "2022-04-08T18:35:20.464536Z"
    },
    "tags": []
   },
   "outputs": [
    {
     "data": {
      "text/html": [
       "\n",
       "    <style>\n",
       "        #ipyplot-html-viewer-toggle-7MnG6Yd8mrDCJG8SihpdCq {\n",
       "            position: absolute;\n",
       "            top: -9999px;\n",
       "            left: -9999px;\n",
       "            visibility: hidden;\n",
       "        }\n",
       "\n",
       "        #ipyplot-html-viewer-label-7MnG6Yd8mrDCJG8SihpdCq { \n",
       "            position: relative;\n",
       "            display: inline-block;\n",
       "            cursor: pointer;\n",
       "            color: blue;\n",
       "            text-decoration: underline;\n",
       "        }\n",
       "\n",
       "        #ipyplot-html-viewer-textarea-7MnG6Yd8mrDCJG8SihpdCq {\n",
       "            background: lightgrey;\n",
       "            width: 100%;\n",
       "            height: 0px;\n",
       "            display: none;\n",
       "        }\n",
       "\n",
       "        #ipyplot-html-viewer-toggle-7MnG6Yd8mrDCJG8SihpdCq:checked ~ #ipyplot-html-viewer-textarea-7MnG6Yd8mrDCJG8SihpdCq {\n",
       "            height: 200px;\n",
       "            display: block;\n",
       "        }\n",
       "\n",
       "        #ipyplot-html-viewer-toggle-7MnG6Yd8mrDCJG8SihpdCq:checked + #ipyplot-html-viewer-label-7MnG6Yd8mrDCJG8SihpdCq:after {\n",
       "            content: \"hide html\";\n",
       "            position: absolute;\n",
       "            top: 0;\n",
       "            left: 0;\n",
       "            right: 0;\n",
       "            bottom: 0;\n",
       "            background: white;\n",
       "            cursor: pointer;\n",
       "            color: blue;\n",
       "            text-decoration: underline;\n",
       "        }\n",
       "    </style>\n",
       "    <div>\n",
       "        <input type=\"checkbox\" id=\"ipyplot-html-viewer-toggle-7MnG6Yd8mrDCJG8SihpdCq\">\n",
       "        <label id=\"ipyplot-html-viewer-label-7MnG6Yd8mrDCJG8SihpdCq\" for=\"ipyplot-html-viewer-toggle-7MnG6Yd8mrDCJG8SihpdCq\">show html</label>\n",
       "        <textarea id=\"ipyplot-html-viewer-textarea-7MnG6Yd8mrDCJG8SihpdCq\" readonly>\n",
       "            \n",
       "        <style>\n",
       "        #ipyplot-imgs-container-div-Xb8wigm4mrehPbUw43d5y8 {\n",
       "            width: 100%;\n",
       "            height: 100%;\n",
       "            margin: 0%;\n",
       "            overflow: auto;\n",
       "            position: relative;\n",
       "            overflow-y: scroll;\n",
       "        }\n",
       "\n",
       "        div.ipyplot-placeholder-div-Xb8wigm4mrehPbUw43d5y8 {\n",
       "            width: 1000px;\n",
       "            display: inline-block;\n",
       "            margin: 3px;\n",
       "            position: relative;\n",
       "        }\n",
       "\n",
       "        div.ipyplot-content-div-Xb8wigm4mrehPbUw43d5y8 {\n",
       "            width: 1000px;\n",
       "            background: white;\n",
       "            display: inline-block;\n",
       "            vertical-align: top;\n",
       "            text-align: center;\n",
       "            position: relative;\n",
       "            border: 2px solid #ddd;\n",
       "            top: 0;\n",
       "            left: 0;\n",
       "        }\n",
       "\n",
       "        div.ipyplot-content-div-Xb8wigm4mrehPbUw43d5y8 span.ipyplot-img-close {\n",
       "            display: none;\n",
       "        }\n",
       "\n",
       "        div.ipyplot-content-div-Xb8wigm4mrehPbUw43d5y8 span {\n",
       "            width: 100%;\n",
       "            height: 100%;\n",
       "            position: absolute;\n",
       "            top: 0;\n",
       "            left: 0;\n",
       "        }\n",
       "\n",
       "        div.ipyplot-content-div-Xb8wigm4mrehPbUw43d5y8 img {\n",
       "            width: 1000px;\n",
       "        }\n",
       "\n",
       "        div.ipyplot-content-div-Xb8wigm4mrehPbUw43d5y8 span.ipyplot-img-close:hover {\n",
       "            cursor: zoom-out;\n",
       "        }\n",
       "        div.ipyplot-content-div-Xb8wigm4mrehPbUw43d5y8 span.ipyplot-img-expand:hover {\n",
       "            cursor: zoom-in;\n",
       "        }\n",
       "\n",
       "        div[id^=ipyplot-content-div-Xb8wigm4mrehPbUw43d5y8]:target {\n",
       "            transform: scale(2.5);\n",
       "            transform-origin: left top;\n",
       "            z-index: 5000;\n",
       "            top: 0;\n",
       "            left: 0;\n",
       "            position: absolute;\n",
       "        }\n",
       "\n",
       "        div[id^=ipyplot-content-div-Xb8wigm4mrehPbUw43d5y8]:target span.ipyplot-img-close {\n",
       "            display: block;\n",
       "        }\n",
       "\n",
       "        div[id^=ipyplot-content-div-Xb8wigm4mrehPbUw43d5y8]:target span.ipyplot-img-expand {\n",
       "            display: none;\n",
       "        }\n",
       "        </style>\n",
       "    <div id=\"ipyplot-imgs-container-div-Xb8wigm4mrehPbUw43d5y8\">\n",
       "    <div class=\"ipyplot-placeholder-div-Xb8wigm4mrehPbUw43d5y8\">\n",
       "        <div id=\"ipyplot-content-div-Xb8wigm4mrehPbUw43d5y8-AWYN6AQfE4bzX3g7htZCzj\" class=\"ipyplot-content-div-Xb8wigm4mrehPbUw43d5y8\">\n",
       "            <h4 style=\"font-size: 12px; word-wrap: break-word;\">0</h4>\n",
       "            <h4 style=\"font-size: 9px; padding-left: 10px; padding-right: 10px; width: 95%; word-wrap: break-word; white-space: normal;\">ods_graph.svg</h4><img src=\"ods_graph.svg\"/>\n",
       "            <a href=\"#!\">\n",
       "                <span class=\"ipyplot-img-close\"/>\n",
       "            </a>\n",
       "            <a href=\"#ipyplot-content-div-Xb8wigm4mrehPbUw43d5y8-AWYN6AQfE4bzX3g7htZCzj\">\n",
       "                <span class=\"ipyplot-img-expand\"/>\n",
       "            </a>\n",
       "        </div>\n",
       "    </div>\n",
       "    </div>\n",
       "        </textarea>\n",
       "    </div>\n",
       "    "
      ],
      "text/plain": [
       "<IPython.core.display.HTML object>"
      ]
     },
     "metadata": {},
     "output_type": "display_data"
    },
    {
     "data": {
      "text/html": [
       "\n",
       "        <style>\n",
       "        #ipyplot-imgs-container-div-Xb8wigm4mrehPbUw43d5y8 {\n",
       "            width: 100%;\n",
       "            height: 100%;\n",
       "            margin: 0%;\n",
       "            overflow: auto;\n",
       "            position: relative;\n",
       "            overflow-y: scroll;\n",
       "        }\n",
       "\n",
       "        div.ipyplot-placeholder-div-Xb8wigm4mrehPbUw43d5y8 {\n",
       "            width: 1000px;\n",
       "            display: inline-block;\n",
       "            margin: 3px;\n",
       "            position: relative;\n",
       "        }\n",
       "\n",
       "        div.ipyplot-content-div-Xb8wigm4mrehPbUw43d5y8 {\n",
       "            width: 1000px;\n",
       "            background: white;\n",
       "            display: inline-block;\n",
       "            vertical-align: top;\n",
       "            text-align: center;\n",
       "            position: relative;\n",
       "            border: 2px solid #ddd;\n",
       "            top: 0;\n",
       "            left: 0;\n",
       "        }\n",
       "\n",
       "        div.ipyplot-content-div-Xb8wigm4mrehPbUw43d5y8 span.ipyplot-img-close {\n",
       "            display: none;\n",
       "        }\n",
       "\n",
       "        div.ipyplot-content-div-Xb8wigm4mrehPbUw43d5y8 span {\n",
       "            width: 100%;\n",
       "            height: 100%;\n",
       "            position: absolute;\n",
       "            top: 0;\n",
       "            left: 0;\n",
       "        }\n",
       "\n",
       "        div.ipyplot-content-div-Xb8wigm4mrehPbUw43d5y8 img {\n",
       "            width: 1000px;\n",
       "        }\n",
       "\n",
       "        div.ipyplot-content-div-Xb8wigm4mrehPbUw43d5y8 span.ipyplot-img-close:hover {\n",
       "            cursor: zoom-out;\n",
       "        }\n",
       "        div.ipyplot-content-div-Xb8wigm4mrehPbUw43d5y8 span.ipyplot-img-expand:hover {\n",
       "            cursor: zoom-in;\n",
       "        }\n",
       "\n",
       "        div[id^=ipyplot-content-div-Xb8wigm4mrehPbUw43d5y8]:target {\n",
       "            transform: scale(2.5);\n",
       "            transform-origin: left top;\n",
       "            z-index: 5000;\n",
       "            top: 0;\n",
       "            left: 0;\n",
       "            position: absolute;\n",
       "        }\n",
       "\n",
       "        div[id^=ipyplot-content-div-Xb8wigm4mrehPbUw43d5y8]:target span.ipyplot-img-close {\n",
       "            display: block;\n",
       "        }\n",
       "\n",
       "        div[id^=ipyplot-content-div-Xb8wigm4mrehPbUw43d5y8]:target span.ipyplot-img-expand {\n",
       "            display: none;\n",
       "        }\n",
       "        </style>\n",
       "    <div id=\"ipyplot-imgs-container-div-Xb8wigm4mrehPbUw43d5y8\">\n",
       "    <div class=\"ipyplot-placeholder-div-Xb8wigm4mrehPbUw43d5y8\">\n",
       "        <div id=\"ipyplot-content-div-Xb8wigm4mrehPbUw43d5y8-AWYN6AQfE4bzX3g7htZCzj\" class=\"ipyplot-content-div-Xb8wigm4mrehPbUw43d5y8\">\n",
       "            <h4 style=\"font-size: 12px; word-wrap: break-word;\">0</h4>\n",
       "            <h4 style=\"font-size: 9px; padding-left: 10px; padding-right: 10px; width: 95%; word-wrap: break-word; white-space: normal;\">ods_graph.svg</h4><img src=\"ods_graph.svg\"/>\n",
       "            <a href=\"#!\">\n",
       "                <span class=\"ipyplot-img-close\"/>\n",
       "            </a>\n",
       "            <a href=\"#ipyplot-content-div-Xb8wigm4mrehPbUw43d5y8-AWYN6AQfE4bzX3g7htZCzj\">\n",
       "                <span class=\"ipyplot-img-expand\"/>\n",
       "            </a>\n",
       "        </div>\n",
       "    </div>\n",
       "    </div>"
      ],
      "text/plain": [
       "<IPython.core.display.HTML object>"
      ]
     },
     "metadata": {},
     "output_type": "display_data"
    }
   ],
   "source": [
    "import ipyplot\n",
    "\n",
    "ipyplot.plot_images(\n",
    "    [\"ods_graph.svg\"],\n",
    "    img_width=1000,\n",
    "    # force_b64=True\n",
    ")"
   ]
  },
  {
   "cell_type": "markdown",
   "id": "e864aefd-6a45-416b-8f46-1686cd5aef54",
   "metadata": {},
   "source": [
    "Цвет узла на графе показывает принадлежность к компании, цвет связи показывает оттенок реакции (красный - негативный, зеленый - положительный), размер ноды определяется по in_degree\n",
    "\n",
    "По визуализации графа видно, что граф достаточно плотно связан, сложно выделить группы. Также можно отметить, что компании не обязательно тесно связаны в графе (не обязательно сотрудники одной компании ставят реакции друг другу). Видно, что нода, поставившая наибольшее кол-во реакций (расположена в центре графа) - ставит в основном негативные реакции."
   ]
  },
  {
   "cell_type": "code",
   "execution_count": null,
   "id": "3142ba2b-70f3-48e0-8a8a-a489fb22de8f",
   "metadata": {},
   "outputs": [],
   "source": []
  }
 ],
 "metadata": {
  "kernelspec": {
   "display_name": "Python 3 (ipykernel)",
   "language": "python",
   "name": "python3"
  },
  "language_info": {
   "codemirror_mode": {
    "name": "ipython",
    "version": 3
   },
   "file_extension": ".py",
   "mimetype": "text/x-python",
   "name": "python",
   "nbconvert_exporter": "python",
   "pygments_lexer": "ipython3",
   "version": "3.8.10"
  }
 },
 "nbformat": 4,
 "nbformat_minor": 5
}
