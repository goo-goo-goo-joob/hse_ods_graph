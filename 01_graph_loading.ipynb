{
 "cells": [
  {
   "cell_type": "markdown",
   "id": "21669bef-54ac-4660-a89c-543d443ad4c8",
   "metadata": {},
   "source": [
    "# Communication network\n",
    "\n",
    "Загрузка и считывание графа\n",
    "\n",
    "Анализируемые данные содержат сообщения из канала `_jobs` в slack cобществе ODS за период с 2015-04-14 по 2021-07-19\n",
    "\n",
    "**Описание сети:** узлы сети - пользователи, ребра - реакция пользователя на пост с вакансией. Граф направленный: направление от того, кто поставил реакцию, к автору поста. Однако не всегда можно проанализировать направленный граф (например, направленный граф исследуемой сети не является связным - пользователь опубликовал вакансию, но не поставил никому реакцию), поэтому будем исследовать также и ненаправленный граф.\n",
    "У узлов графа есть атрибут: компания, в которой пользователь работает (от лица которой публикует вакансию). Атрибуты ребер - положительная, отрицательная или нейтральная реакция на пост с вакансией. Пользователь может поставить к одному посту реакции с разным оттенком, поэтому в качестве атрибута связи будем учитывать средний оттенок реакций одного пользователя к посту\n",
    "\n",
    "<!---Предположения по сети:\n",
    "- в графе четко выделены hubs & authorities\n",
    "- пользователи из одной компании ставят друг другу больше положительных реакций или ставят реакции только своим коллегам\n",
    "- пользователи из одной компании более тесно связаны в графе (возможно наблюдаются кластеры)-->\n",
    "\n",
    "Работы по анализу вакансий Слака:\n",
    "* https://github.com/kuk/analyze-ods-jobs\n",
    "* https://github.com/egorborisov/jobs_article и статья на habr https://habr.com/ru/company/ods/blog/572264/\n",
    "* https://github.com/AndreyKolomiets/ods_jobs_analytics\n",
    "\n",
    "Данные и скрипт по загрузке данных взяты из https://github.com/egorborisov/jobs_article"
   ]
  },
  {
   "cell_type": "code",
   "execution_count": 1,
   "id": "d1425c02-671b-4d02-a445-aaf6f3f4c29c",
   "metadata": {
    "execution": {
     "iopub.execute_input": "2022-04-07T19:34:11.995565Z",
     "iopub.status.busy": "2022-04-07T19:34:11.994892Z",
     "iopub.status.idle": "2022-04-07T19:34:13.162815Z",
     "shell.execute_reply": "2022-04-07T19:34:13.162279Z",
     "shell.execute_reply.started": "2022-04-07T19:34:11.995500Z"
    },
    "tags": []
   },
   "outputs": [],
   "source": [
    "import glob\n",
    "import itertools\n",
    "import os\n",
    "import re\n",
    "from collections import defaultdict\n",
    "from datetime import datetime\n",
    "from json import load\n",
    "\n",
    "import matplotlib.pyplot as plt\n",
    "import networkx as nx\n",
    "import numpy as np\n",
    "import pandas as pd\n",
    "import seaborn as sns\n",
    "from tqdm.auto import tqdm\n",
    "\n",
    "sns.set_theme()"
   ]
  },
  {
   "cell_type": "code",
   "execution_count": 2,
   "id": "83d7af2b-7832-48d1-acd7-1f23f55ca6c4",
   "metadata": {
    "execution": {
     "iopub.execute_input": "2022-04-07T19:34:13.164119Z",
     "iopub.status.busy": "2022-04-07T19:34:13.163871Z",
     "iopub.status.idle": "2022-04-07T19:34:13.172509Z",
     "shell.execute_reply": "2022-04-07T19:34:13.171906Z",
     "shell.execute_reply.started": "2022-04-07T19:34:13.164092Z"
    },
    "tags": []
   },
   "outputs": [],
   "source": [
    "def read_json(filename):\n",
    "    with open(filename, encoding=\"utf-8\") as file:\n",
    "        return load(file)\n",
    "\n",
    "\n",
    "def convert_ts(ts):\n",
    "    if isinstance(ts, float) and ts == ts and ts is not None:\n",
    "        return datetime.fromtimestamp(ts)\n",
    "    else:\n",
    "        return None\n",
    "\n",
    "\n",
    "def load_messages(channel):\n",
    "    \"\"\"Загружаем все сообщения в pandas DataFrame и убираем технические записи\"\"\"\n",
    "    # Загрузка данных\n",
    "    data = []\n",
    "    links = glob.glob(os.path.join(channel, \"*.json\"))\n",
    "    for link in links:\n",
    "        file = read_json(link)\n",
    "        data = data + file\n",
    "    data = pd.DataFrame(data)\n",
    "    print(f\"Загружено {len(data)} cообщений\")\n",
    "\n",
    "    # Убираем технические сообщения\n",
    "    select = (data.upload.isna()) & (data.display_as_bot.isna()) & data.subtype.isna()\n",
    "    data = data[select]\n",
    "    print(f\"\\tУдалены технические сообщения: {sum(~select) } сообщений\")\n",
    "\n",
    "    # Оставляем только выбранные колонки\n",
    "    cols = [\n",
    "        \"ts\",\n",
    "        \"user\",\n",
    "        \"text\",\n",
    "        \"user_profile\",\n",
    "        \"attachments\",\n",
    "        \"edited\",\n",
    "        \"reactions\",\n",
    "        \"thread_ts\",\n",
    "        \"reply_count\",\n",
    "        \"reply_users_count\",\n",
    "        \"latest_reply\",\n",
    "        \"reply_users\",\n",
    "        \"replies\",\n",
    "        \"subscribed\",\n",
    "        \"parent_user_id\",\n",
    "        \"last_read\",\n",
    "        \"client_msg_id\",\n",
    "        \"blocks\",\n",
    "    ]\n",
    "\n",
    "    # Меняем формат для дат\n",
    "    data[\"ts\"] = ((data[\"ts\"].astype(\"float\")).apply(convert_ts)).dt.round(\"s\")\n",
    "    data[\"thread_ts\"] = ((data[\"thread_ts\"].astype(\"float\")).apply(convert_ts)).dt.round(\"s\")\n",
    "    print(f\"\\tДата и время округлены до секунд и переведены в datetime формат\")\n",
    "\n",
    "    # Очищаем и предобрабатываем текст\n",
    "    data[\"text\"] = data[\"text\"].str.lower().str.strip()\n",
    "    data[\"text\"] = data.text.str.replace(\"\\xa0\", \" \")\n",
    "    print(f\"\\tТекст приведен к маленьким буквам и очищен от лишних пробелов\")\n",
    "\n",
    "    print(f\"Осталось {len(data)} cообщений\")\n",
    "\n",
    "    return data.loc[:, cols].reset_index(drop=True)"
   ]
  },
  {
   "cell_type": "code",
   "execution_count": 3,
   "id": "142dea84-c80c-4f86-aee3-45af4a2fc8e8",
   "metadata": {
    "execution": {
     "iopub.execute_input": "2022-04-07T19:34:13.173431Z",
     "iopub.status.busy": "2022-04-07T19:34:13.173226Z",
     "iopub.status.idle": "2022-04-07T19:34:28.598977Z",
     "shell.execute_reply": "2022-04-07T19:34:28.598485Z",
     "shell.execute_reply.started": "2022-04-07T19:34:13.173412Z"
    },
    "tags": []
   },
   "outputs": [
    {
     "name": "stdout",
     "output_type": "stream",
     "text": [
      "Загружено 49912 cообщений\n",
      "\tУдалены технические сообщения: 6898 сообщений\n",
      "\tДата и время округлены до секунд и переведены в datetime формат\n",
      "\tТекст приведен к маленьким буквам и очищен от лишних пробелов\n",
      "Осталось 43014 cообщений\n"
     ]
    }
   ],
   "source": [
    "x = load_messages(\"data\")"
   ]
  },
  {
   "cell_type": "markdown",
   "id": "48632e96-e7df-4528-97a0-08e08267640a",
   "metadata": {},
   "source": [
    "Алгоритм отбора записей в граф:\n",
    "\n",
    "- применим фильтр, что сообщение основное (не из треда)\n",
    "- возьмем сообщения с вакансиями только за 2021 год\n",
    "- для каждого пользователя будем учитывать только одну последнюю вакансию\n",
    "- поскольку реакций к постам может быть очень много, в графе учитываются реакции только тех, кто постил хотя бы одну вакансию за период с 2020-06-01. Таким образом, у каждого пользователя в сети должна быть компания"
   ]
  },
  {
   "cell_type": "code",
   "execution_count": 4,
   "id": "5aa3631e-4445-4a60-8348-e8e8570730ca",
   "metadata": {
    "execution": {
     "iopub.execute_input": "2022-04-07T19:34:28.600298Z",
     "iopub.status.busy": "2022-04-07T19:34:28.600077Z",
     "iopub.status.idle": "2022-04-07T19:34:28.608483Z",
     "shell.execute_reply": "2022-04-07T19:34:28.608075Z",
     "shell.execute_reply.started": "2022-04-07T19:34:28.600279Z"
    },
    "tags": []
   },
   "outputs": [
    {
     "data": {
      "text/plain": [
       "2607"
      ]
     },
     "execution_count": 4,
     "metadata": {},
     "output_type": "execute_result"
    }
   ],
   "source": [
    "# общее кол-во вакансий за период\n",
    "x[x[\"ts\"] == x[\"thread_ts\"]].shape[0]"
   ]
  },
  {
   "cell_type": "code",
   "execution_count": 5,
   "id": "0521b3b3-f122-4cb9-8287-44af2fff0977",
   "metadata": {
    "execution": {
     "iopub.execute_input": "2022-04-07T19:34:28.609563Z",
     "iopub.status.busy": "2022-04-07T19:34:28.609191Z",
     "iopub.status.idle": "2022-04-07T19:34:28.613639Z",
     "shell.execute_reply": "2022-04-07T19:34:28.613237Z",
     "shell.execute_reply.started": "2022-04-07T19:34:28.609541Z"
    },
    "tags": []
   },
   "outputs": [
    {
     "data": {
      "text/plain": [
       "(Timestamp('2015-04-14 11:20:20'), Timestamp('2021-07-19 07:46:14'))"
      ]
     },
     "execution_count": 5,
     "metadata": {},
     "output_type": "execute_result"
    }
   ],
   "source": [
    "# период с выгрузкой вакансий\n",
    "x[\"ts\"].min(), x[\"ts\"].max()"
   ]
  },
  {
   "cell_type": "markdown",
   "id": "770500e1-e146-4a2d-ab6f-4b8cc70a5a77",
   "metadata": {},
   "source": [
    "Будем определять принадлежность пользователя к компании по домену почты"
   ]
  },
  {
   "cell_type": "code",
   "execution_count": 6,
   "id": "ef004412-1156-470e-9404-64c8de373bdd",
   "metadata": {
    "execution": {
     "iopub.execute_input": "2022-04-07T19:34:28.614617Z",
     "iopub.status.busy": "2022-04-07T19:34:28.614296Z",
     "iopub.status.idle": "2022-04-07T19:34:28.617694Z",
     "shell.execute_reply": "2022-04-07T19:34:28.617308Z",
     "shell.execute_reply.started": "2022-04-07T19:34:28.614598Z"
    },
    "tags": []
   },
   "outputs": [],
   "source": [
    "regex = re.compile(\"@\\w+\\.(ru|com|org|io|ai)\")"
   ]
  },
  {
   "cell_type": "code",
   "execution_count": 7,
   "id": "a3622976-b2ed-4dea-8e42-57cc2153187e",
   "metadata": {
    "execution": {
     "iopub.execute_input": "2022-04-07T19:34:28.618616Z",
     "iopub.status.busy": "2022-04-07T19:34:28.618320Z",
     "iopub.status.idle": "2022-04-07T19:34:28.624370Z",
     "shell.execute_reply": "2022-04-07T19:34:28.623972Z",
     "shell.execute_reply.started": "2022-04-07T19:34:28.618597Z"
    },
    "tags": []
   },
   "outputs": [],
   "source": [
    "def get_company(text):\n",
    "    r = regex.search(text)\n",
    "    if r is not None:\n",
    "        company = r.group(0).split(\".\")[0][1:]\n",
    "        if company not in [\n",
    "            \"gmail\",\n",
    "        ]:\n",
    "            return company"
   ]
  },
  {
   "cell_type": "markdown",
   "id": "133713d9-5412-42cb-999f-c5030b16a0de",
   "metadata": {},
   "source": [
    "Определим пользователей, реакции которых будем учитывать, и их компании"
   ]
  },
  {
   "cell_type": "code",
   "execution_count": 8,
   "id": "8ab4c824-0cc4-45f6-9ccd-5bf7e0f1b870",
   "metadata": {
    "execution": {
     "iopub.execute_input": "2022-04-07T19:34:28.625821Z",
     "iopub.status.busy": "2022-04-07T19:34:28.625457Z",
     "iopub.status.idle": "2022-04-07T19:34:28.647066Z",
     "shell.execute_reply": "2022-04-07T19:34:28.646590Z",
     "shell.execute_reply.started": "2022-04-07T19:34:28.625799Z"
    },
    "tags": []
   },
   "outputs": [],
   "source": [
    "def agg_user(x):\n",
    "    name = x.values[0][0][\"real_name\"]\n",
    "    if type(x.values[0][1]) == \"list\":\n",
    "        company = [i for i in x.values[0][1] if i is not None]\n",
    "    else:\n",
    "        company = [x.values[0][1]] if x.values[0][1] is not None else []\n",
    "    if len(company):\n",
    "        return {\"name\": name, \"company\": company[-1]}\n",
    "    return {\"name\": name, \"company\": \"undefined\"}"
   ]
  },
  {
   "cell_type": "code",
   "execution_count": 9,
   "id": "4f4c104a-793d-416f-b54b-4bdf056831a7",
   "metadata": {
    "execution": {
     "iopub.execute_input": "2022-04-07T19:34:28.647982Z",
     "iopub.status.busy": "2022-04-07T19:34:28.647817Z",
     "iopub.status.idle": "2022-04-07T19:34:28.688709Z",
     "shell.execute_reply": "2022-04-07T19:34:28.688205Z",
     "shell.execute_reply.started": "2022-04-07T19:34:28.647964Z"
    },
    "tags": []
   },
   "outputs": [],
   "source": [
    "vacancies = x[(x[\"ts\"] == x[\"thread_ts\"]) & (x[\"ts\"] > pd.to_datetime(\"2020-06-01\"))].sort_values(\"ts\")\n",
    "vacancies[\"company\"] = vacancies[\"text\"].map(get_company)\n",
    "users = vacancies.groupby(\"user\")[[\"user_profile\", \"company\"]].apply(agg_user)"
   ]
  },
  {
   "cell_type": "code",
   "execution_count": 10,
   "id": "5c8d0dca-26a6-4217-8580-b5454b873509",
   "metadata": {
    "execution": {
     "iopub.execute_input": "2022-04-07T19:34:28.689651Z",
     "iopub.status.busy": "2022-04-07T19:34:28.689477Z",
     "iopub.status.idle": "2022-04-07T19:34:28.693076Z",
     "shell.execute_reply": "2022-04-07T19:34:28.692709Z",
     "shell.execute_reply.started": "2022-04-07T19:34:28.689623Z"
    },
    "tags": []
   },
   "outputs": [
    {
     "data": {
      "text/plain": [
       "594"
      ]
     },
     "execution_count": 10,
     "metadata": {},
     "output_type": "execute_result"
    }
   ],
   "source": [
    "len(users)"
   ]
  },
  {
   "cell_type": "markdown",
   "id": "0c1e8d3e-7a90-4893-931b-f600353a83a0",
   "metadata": {},
   "source": [
    "Выберем посты с вакансиями"
   ]
  },
  {
   "cell_type": "code",
   "execution_count": 11,
   "id": "77b6f83e-519f-4e46-9c9b-12b6cd07d528",
   "metadata": {
    "execution": {
     "iopub.execute_input": "2022-04-07T19:34:28.693891Z",
     "iopub.status.busy": "2022-04-07T19:34:28.693740Z",
     "iopub.status.idle": "2022-04-07T19:34:28.702142Z",
     "shell.execute_reply": "2022-04-07T19:34:28.701599Z",
     "shell.execute_reply.started": "2022-04-07T19:34:28.693874Z"
    },
    "tags": []
   },
   "outputs": [],
   "source": [
    "df = vacancies[vacancies[\"ts\"].dt.year == 2021].drop_duplicates(subset=[\"user\"], keep=\"last\").reset_index(drop=True)"
   ]
  },
  {
   "cell_type": "code",
   "execution_count": 15,
   "id": "7d726fdf-f6f4-49c7-a9a3-8e68235d2b2c",
   "metadata": {
    "execution": {
     "iopub.execute_input": "2022-04-07T19:36:28.941410Z",
     "iopub.status.busy": "2022-04-07T19:36:28.940885Z",
     "iopub.status.idle": "2022-04-07T19:36:29.070667Z",
     "shell.execute_reply": "2022-04-07T19:36:29.070130Z",
     "shell.execute_reply.started": "2022-04-07T19:36:28.941386Z"
    },
    "tags": []
   },
   "outputs": [
    {
     "data": {
      "image/png": "[encoded data removed]",
      "text/plain": [
       "<Figure size 432x288 with 1 Axes>"
      ]
     },
     "metadata": {},
     "output_type": "display_data"
    }
   ],
   "source": [
    "ax = df[\"company\"].value_counts()[:10][::-1].plot.barh(title=\"Распределение кол-ва вакансий по компаниям\")\n",
    "ax.set_xlabel(\"Кол-во вакансий\");"
   ]
  },
  {
   "cell_type": "code",
   "execution_count": 17,
   "id": "4fd47fe0-9e3f-46fa-9b0b-69147c87f247",
   "metadata": {
    "execution": {
     "iopub.execute_input": "2022-04-05T18:05:08.186977Z",
     "iopub.status.busy": "2022-04-05T18:05:08.186544Z",
     "iopub.status.idle": "2022-04-05T18:05:08.192055Z",
     "shell.execute_reply": "2022-04-05T18:05:08.191593Z",
     "shell.execute_reply.started": "2022-04-05T18:05:08.186952Z"
    },
    "tags": []
   },
   "outputs": [
    {
     "data": {
      "text/plain": [
       "Index(['sberbank', 'raiffeisen', 'ozon', 'alfabank', 'rt', '2a2i', 'samsung',\n",
       "       'tinkoff', 'ostrovok', 'x5', 'beeline', 'huawei', 'open', 'sportmaster',\n",
       "       'sbdagroup', 'avito'],\n",
       "      dtype='object')"
      ]
     },
     "execution_count": 17,
     "metadata": {},
     "output_type": "execute_result"
    }
   ],
   "source": [
    "df[\"company\"].value_counts()[:16].index"
   ]
  },
  {
   "cell_type": "markdown",
   "id": "d7be2b90-2253-4080-bc1a-0179e5b35df1",
   "metadata": {},
   "source": [
    "Сначала построим ненаправленный граф, выделим у него наибольшую компоненту, а затем перейдем к направленному графу\n",
    "\n",
    "Будем рассматривать только одну связную компоненту (это практически весь граф)"
   ]
  },
  {
   "cell_type": "code",
   "execution_count": 18,
   "id": "2e9e7041-8188-4dc8-bc20-ac6e1cf289fb",
   "metadata": {
    "execution": {
     "iopub.execute_input": "2022-04-05T19:42:41.547418Z",
     "iopub.status.busy": "2022-04-05T19:42:41.546984Z",
     "iopub.status.idle": "2022-04-05T19:42:41.553268Z",
     "shell.execute_reply": "2022-04-05T19:42:41.552679Z",
     "shell.execute_reply.started": "2022-04-05T19:42:41.547390Z"
    },
    "tags": []
   },
   "outputs": [],
   "source": [
    "G = nx.Graph()\n",
    "G.add_nodes_from(\n",
    "    list(users.items()),\n",
    "    company=[user[\"company\"] for user in users.values],\n",
    "    name=[user[\"name\"] for user in users.values],\n",
    ")"
   ]
  },
  {
   "cell_type": "code",
   "execution_count": 19,
   "id": "ee9fe664-d973-4ba5-8598-82effcd3c89c",
   "metadata": {
    "execution": {
     "iopub.execute_input": "2022-04-05T19:42:41.886088Z",
     "iopub.status.busy": "2022-04-05T19:42:41.885498Z",
     "iopub.status.idle": "2022-04-05T19:42:41.889748Z",
     "shell.execute_reply": "2022-04-05T19:42:41.889151Z",
     "shell.execute_reply.started": "2022-04-05T19:42:41.886059Z"
    },
    "tags": []
   },
   "outputs": [],
   "source": [
    "reactions = {\n",
    "    \"positive\": [\n",
    "        \"+1\",\n",
    "        \"+1::skin-tone-2\",\n",
    "        \"+1::skin-tone-3\",\n",
    "        \"+1::skin-tone-4\",\n",
    "        \"+1::skin-tone-5\",\n",
    "        \"+1::skin-tone-6\",\n",
    "        \"100\",\n",
    "        \"heart\",\n",
    "        \"fire\",\n",
    "        \"fireball\",\n",
    "        \"notbad\",\n",
    "        \"rocket\",\n",
    "        \"chart_with_upwards_trend\",\n",
    "        \"stonks\",\n",
    "        \"moneys\",\n",
    "        \"heavy_plus_sign\",\n",
    "    ],\n",
    "    \"negative\": [\n",
    "        \"-1\",\n",
    "        \"-1::skin-tone-2\",\n",
    "        \"-1::skin-tone-4\",\n",
    "        \"-1::skin-tone-5\",\n",
    "        \"-1::skin-tone-6\",\n",
    "        \"ban\",\n",
    "        \"titanic\",\n",
    "        \"thisisfine\",\n",
    "        \"el_resitas_shake\",\n",
    "        \"ramen\",\n",
    "        \"hankey\",\n",
    "        \"chart_with_downwards_trend\",\n",
    "        \"heavy_minus_sign\",\n",
    "        \"loh\",\n",
    "    ],\n",
    "}"
   ]
  },
  {
   "cell_type": "code",
   "execution_count": 20,
   "id": "63f50c0b-06b3-48fa-a09e-9ab181876984",
   "metadata": {
    "execution": {
     "iopub.execute_input": "2022-04-05T19:42:42.226335Z",
     "iopub.status.busy": "2022-04-05T19:42:42.225711Z",
     "iopub.status.idle": "2022-04-05T19:42:42.231636Z",
     "shell.execute_reply": "2022-04-05T19:42:42.230984Z",
     "shell.execute_reply.started": "2022-04-05T19:42:42.226304Z"
    },
    "tags": []
   },
   "outputs": [],
   "source": [
    "def fill_graph(G):\n",
    "    for i, row in tqdm(df.iterrows()):\n",
    "        if row[\"reactions\"] is not np.nan:\n",
    "            # all relevant users with reaction to this vacancy\n",
    "            u_users = set(list(itertools.chain(*[r[\"users\"] for r in row[\"reactions\"]]))) & set(users.keys())\n",
    "            u_reacts = defaultdict(list)\n",
    "            for react in row[\"reactions\"]:\n",
    "                add = (\n",
    "                    1\n",
    "                    if react[\"name\"] in reactions[\"positive\"]\n",
    "                    else 0\n",
    "                    if react[\"name\"] in reactions[\"negative\"]\n",
    "                    else 0.5\n",
    "                )\n",
    "                for u_user in react[\"users\"]:\n",
    "                    if u_user in u_users:\n",
    "                        u_reacts[u_user].append(add)\n",
    "\n",
    "            for u_user in u_reacts.keys():\n",
    "                r = np.mean(u_reacts[u_user])\n",
    "                G.add_edge(u_user, row[\"user\"], reaction=r)"
   ]
  },
  {
   "cell_type": "code",
   "execution_count": 21,
   "id": "ac8c5fc6-cc77-47a7-b6aa-8aa3de33ab23",
   "metadata": {
    "execution": {
     "iopub.execute_input": "2022-04-05T19:42:42.705325Z",
     "iopub.status.busy": "2022-04-05T19:42:42.704748Z",
     "iopub.status.idle": "2022-04-05T19:42:42.798913Z",
     "shell.execute_reply": "2022-04-05T19:42:42.798111Z",
     "shell.execute_reply.started": "2022-04-05T19:42:42.705297Z"
    },
    "tags": []
   },
   "outputs": [
    {
     "data": {
      "application/vnd.jupyter.widget-view+json": {
       "model_id": "ba75bc6d022a463bafb74c5d393a2542",
       "version_major": 2,
       "version_minor": 0
      },
      "text/plain": [
       "0it [00:00, ?it/s]"
      ]
     },
     "metadata": {},
     "output_type": "display_data"
    }
   ],
   "source": [
    "fill_graph(G)\n",
    "G.remove_nodes_from(list(nx.isolates(G)))\n",
    "G.remove_edges_from(nx.selfloop_edges(G))"
   ]
  },
  {
   "cell_type": "code",
   "execution_count": 22,
   "id": "e5bf7093-3eaf-4081-b91b-1b989c89079f",
   "metadata": {
    "execution": {
     "iopub.execute_input": "2022-04-05T19:42:43.176933Z",
     "iopub.status.busy": "2022-04-05T19:42:43.176441Z",
     "iopub.status.idle": "2022-04-05T19:42:43.180623Z",
     "shell.execute_reply": "2022-04-05T19:42:43.180140Z",
     "shell.execute_reply.started": "2022-04-05T19:42:43.176904Z"
    },
    "tags": []
   },
   "outputs": [
    {
     "data": {
      "text/plain": [
       "383"
      ]
     },
     "execution_count": 22,
     "metadata": {},
     "output_type": "execute_result"
    }
   ],
   "source": [
    "len(G)"
   ]
  },
  {
   "cell_type": "code",
   "execution_count": 23,
   "id": "de2e5138-a308-49a6-b12f-dce48355e4cd",
   "metadata": {
    "execution": {
     "iopub.execute_input": "2022-04-05T19:42:43.737390Z",
     "iopub.status.busy": "2022-04-05T19:42:43.736813Z",
     "iopub.status.idle": "2022-04-05T19:42:43.750465Z",
     "shell.execute_reply": "2022-04-05T19:42:43.749880Z",
     "shell.execute_reply.started": "2022-04-05T19:42:43.737362Z"
    },
    "tags": []
   },
   "outputs": [
    {
     "data": {
      "text/plain": [
       "374"
      ]
     },
     "execution_count": 23,
     "metadata": {},
     "output_type": "execute_result"
    }
   ],
   "source": [
    "gcc = max(nx.connected_components(G), key=len)\n",
    "gcc = G.subgraph(gcc).copy()\n",
    "len(gcc)"
   ]
  },
  {
   "cell_type": "code",
   "execution_count": 24,
   "id": "0cb61aa7-15e3-4068-98fa-bbbb461fbca4",
   "metadata": {
    "execution": {
     "iopub.execute_input": "2022-04-05T19:42:44.197758Z",
     "iopub.status.busy": "2022-04-05T19:42:44.197097Z",
     "iopub.status.idle": "2022-04-05T19:42:44.254142Z",
     "shell.execute_reply": "2022-04-05T19:42:44.253121Z",
     "shell.execute_reply.started": "2022-04-05T19:42:44.197727Z"
    },
    "tags": []
   },
   "outputs": [],
   "source": [
    "nx.write_gexf(gcc, \"undirected_graph.gexf\")"
   ]
  },
  {
   "cell_type": "code",
   "execution_count": null,
   "id": "fa66c4f3-bc0d-4c73-bd0c-9b36fedddf9f",
   "metadata": {
    "execution": {
     "iopub.execute_input": "2022-04-03T19:17:16.253272Z",
     "iopub.status.busy": "2022-04-03T19:17:16.252700Z",
     "iopub.status.idle": "2022-04-03T19:17:16.338520Z",
     "shell.execute_reply": "2022-04-03T19:17:16.338096Z",
     "shell.execute_reply.started": "2022-04-03T19:17:16.253245Z"
    },
    "tags": []
   },
   "outputs": [
    {
     "data": {
      "application/vnd.jupyter.widget-view+json": {
       "model_id": "",
       "version_major": 2,
       "version_minor": 0
      },
      "text/plain": [
       "0it [00:00, ?it/s]"
      ]
     },
     "metadata": {},
     "output_type": "display_data"
    },
    {
     "data": {
      "text/plain": [
       "374"
      ]
     },
     "execution_count": 33,
     "metadata": {},
     "output_type": "execute_result"
    }
   ],
   "source": [
    "G = nx.DiGraph()\n",
    "G.add_nodes_from(\n",
    "    list(users.items()),\n",
    "    company=[user[\"company\"] for user in users.values],\n",
    "    name=[user[\"name\"] for user in users.values],\n",
    ")\n",
    "\n",
    "fill_graph(G)\n",
    "G.remove_nodes_from(list(nx.isolates(G)))\n",
    "G.remove_edges_from(nx.selfloop_edges(G))\n",
    "\n",
    "G = G.subgraph(gcc).copy()\n",
    "len(G)"
   ]
  },
  {
   "cell_type": "code",
   "execution_count": 24,
   "id": "93a4609a-3c5a-40b1-915b-ba715bfefee4",
   "metadata": {
    "execution": {
     "iopub.execute_input": "2022-04-03T18:10:30.335300Z",
     "iopub.status.busy": "2022-04-03T18:10:30.335143Z",
     "iopub.status.idle": "2022-04-03T18:10:30.370334Z",
     "shell.execute_reply": "2022-04-03T18:10:30.369873Z",
     "shell.execute_reply.started": "2022-04-03T18:10:30.335283Z"
    },
    "tags": []
   },
   "outputs": [],
   "source": [
    "nx.write_gexf(G, \"directed_graph.gexf\")"
   ]
  },
  {
   "cell_type": "code",
   "execution_count": null,
   "id": "d586aaf4-7ac0-446f-8490-37349bf0939d",
   "metadata": {},
   "outputs": [],
   "source": []
  }
 ],
 "metadata": {
  "kernelspec": {
   "display_name": "Python 3 (ipykernel)",
   "language": "python",
   "name": "python3"
  },
  "language_info": {
   "codemirror_mode": {
    "name": "ipython",
    "version": 3
   },
   "file_extension": ".py",
   "mimetype": "text/x-python",
   "name": "python",
   "nbconvert_exporter": "python",
   "pygments_lexer": "ipython3",
   "version": "3.8.10"
  }
 },
 "nbformat": 4,
 "nbformat_minor": 5
}
